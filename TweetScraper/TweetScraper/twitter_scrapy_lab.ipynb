{
 "cells": [
  {
   "cell_type": "code",
   "execution_count": 212,
   "metadata": {},
   "outputs": [
    {
     "name": "stdout",
     "output_type": "stream",
     "text": [
      "{\"min_position\":\"thGAVUV0VFVBYBFgESNQAVACUAVQAVAAA=\",\"has_more_items\":false,\"items_html\":\"\\n\\n\\n\\n\\n\\n\\n\\n\\n\\n\\n\\n\\n\\n\\n \\n\",\"new_latent_count\":0,\"focused_refresh_interval\":30000}\n"
     ]
    }
   ],
   "source": [
    "url = 'https://twitter.com/i/search/timeline?l=&f=tweets&q=covid19&src=typed&max_position='\n",
    "source = requests.get(url).text\n",
    "print(source)"
   ]
  },
  {
   "cell_type": "code",
   "execution_count": 192,
   "metadata": {},
   "outputs": [],
   "source": [
    "import json\n",
    "import logging\n",
    "logger = logging.getLogger(__name__)\n",
    "from datetime import datetime "
   ]
  },
  {
   "cell_type": "code",
   "execution_count": 195,
   "metadata": {},
   "outputs": [
    {
     "name": "stderr",
     "output_type": "stream",
     "text": [
      "hi\n"
     ]
    }
   ],
   "source": [
    "logger.error(\"hi\")\n"
   ]
  },
  {
   "cell_type": "code",
   "execution_count": 198,
   "metadata": {},
   "outputs": [
    {
     "name": "stdout",
     "output_type": "stream",
     "text": [
      "{}\n"
     ]
    }
   ],
   "source": [
    "from scrapy import http\n",
    "import urllib.parse\n",
    "response = http.Request(url)\n",
    "print(response.headers)"
   ]
  },
  {
   "cell_type": "code",
   "execution_count": 107,
   "metadata": {},
   "outputs": [],
   "source": [
    "def start_requests():\n",
    "    query = 'foo'\n",
    "    url = \"https://twitter.com/i/search/timeline?l={}\"\n",
    "    url = url + \"&f=tweets&q=foo&src=typed&max_position=\"\n",
    "    min_position = 'thGAVUV0VFVBYBFoqAp-352Mz_IhIYtAESY8LrAAAB9D-AYk3S8an8AAAAFBF-oLXEVBABEX5UCI7U0AgRfp7PkhUAABF-v_s1VPAFEX7mCkAU4AERfv5TVhVwARF_LnrAl9ACEX5FjoyVAAARfxsoiRQwABF_Sl9PlNADEX8CIeJWoAARf5ljztTgBRF_mA8yFgABEX-IIIxXQAERf4FSuxQQABF_LwEpFOABEX6_OAHUYAARfpHxPVawARF--U4eFQABEX9BC6WWsAAVAhUAFQAlAFUAFQAA'\n",
    "    min_position = min_position.replace(\"+\",\"%2B\")\n",
    "    url = url +min_position\n",
    "    print(url)\n",
    "    \n",
    "    response = http.Request(url)\n",
    "    print(response)\n",
    "    data = json.loads(response.body.decode(\"utf-8\"))\n",
    "#     print(data['items_html'])\n",
    "#     min_position = data['min_position']\n",
    "#     min_position = min_position.replace(\"+\",\"%2B\")\n",
    "#     url = url % (urllib.parse.quote(query), min_position)\n",
    "#     print(url)\n"
   ]
  },
  {
   "cell_type": "code",
   "execution_count": 108,
   "metadata": {
    "scrolled": true
   },
   "outputs": [
    {
     "name": "stdout",
     "output_type": "stream",
     "text": [
      "https://twitter.com/i/search/timeline?l={}&f=tweets&q=foo&src=typed&max_position=thGAVUV0VFVBYBFoqAp-352Mz_IhIYtAESY8LrAAAB9D-AYk3S8an8AAAAFBF-oLXEVBABEX5UCI7U0AgRfp7PkhUAABF-v_s1VPAFEX7mCkAU4AERfv5TVhVwARF_LnrAl9ACEX5FjoyVAAARfxsoiRQwABF_Sl9PlNADEX8CIeJWoAARf5ljztTgBRF_mA8yFgABEX-IIIxXQAERf4FSuxQQABF_LwEpFOABEX6_OAHUYAARfpHxPVawARF--U4eFQABEX9BC6WWsAAVAhUAFQAlAFUAFQAA\n",
      "https://twitter.com/i/search/timeline?l={}&f=tweets&q=foo&src=typed&max_position=thGAVUV0VFVBYBFoqAp-352Mz_IhIYtAESY8LrAAAB9D-AYk3S8an8AAAAFBF-oLXEVBABEX5UCI7U0AgRfp7PkhUAABF-v_s1VPAFEX7mCkAU4AERfv5TVhVwARF_LnrAl9ACEX5FjoyVAAARfxsoiRQwABF_Sl9PlNADEX8CIeJWoAARf5ljztTgBRF_mA8yFgABEX-IIIxXQAERf4FSuxQQABF_LwEpFOABEX6_OAHUYAARfpHxPVawARF--U4eFQABEX9BC6WWsAAVAhUAFQAlAFUAFQAA\n",
      "b''\n"
     ]
    }
   ],
   "source": [
    "print(url)\n",
    "\n",
    "url ='https://twitter.com/i/search/timeline?l={}&f=tweets&q=foo&src=typed&max_position=thGAVUV0VFVBYBFoqAp-352Mz_IhIYtAESY8LrAAAB9D-AYk3S8an8AAAAFBF-oLXEVBABEX5UCI7U0AgRfp7PkhUAABF-v_s1VPAFEX7mCkAU4AERfv5TVhVwARF_LnrAl9ACEX5FjoyVAAARfxsoiRQwABF_Sl9PlNADEX8CIeJWoAARf5ljztTgBRF_mA8yFgABEX-IIIxXQAERf4FSuxQQABF_LwEpFOABEX6_OAHUYAARfpHxPVawARF--U4eFQABEX9BC6WWsAAVAhUAFQAlAFUAFQAA'\n",
    "print(url)\n",
    "response = http.Request(url)\n",
    "print(response.body)"
   ]
  },
  {
   "cell_type": "markdown",
   "metadata": {},
   "source": [
    "# USER"
   ]
  },
  {
   "cell_type": "code",
   "execution_count": 208,
   "metadata": {},
   "outputs": [
    {
     "name": "stdout",
     "output_type": "stream",
     "text": [
      "20\n",
      "[{'name': 'Lubbock TX Jobs', 'screen_name': 'JobsLubbockTX', 'avatar': 'https://pbs.twimg.com/profile_images/1248287504341405698/RCxgCcup_bigger.jpg'}, {'name': 'Benjamin Foo', 'screen_name': 'foo_benjamin', 'avatar': 'https://pbs.twimg.com/profile_images/878514720386424835/Z3nroYGs_bigger.jpg'}, {'name': 'The🐰FOO', 'screen_name': 'PolitiBunny', 'avatar': 'https://pbs.twimg.com/profile_images/1259665643722465283/vFoO67Ut_bigger.jpg'}, {'name': 'JayceyFUwU', 'screen_name': 'JayceyFoo', 'avatar': 'https://pbs.twimg.com/profile_images/1259698352817668096/4jYyA7Ry_bigger.jpg'}, {'name': 'Marcus Foo', 'screen_name': 'AStrongerOZ', 'avatar': 'https://pbs.twimg.com/profile_images/1245184579469824003/nrMPcoww_bigger.jpg'}, {'name': 'IG: TheFooCommunity 🇲🇽', 'screen_name': 'TheFooCommunity', 'avatar': 'https://pbs.twimg.com/profile_images/1239469063341924352/xFF_w9q__bigger.jpg'}, {'name': 'brenda', 'screen_name': 'fooIsbeer', 'avatar': 'https://pbs.twimg.com/profile_images/1260730779253997584/jTA1kdpU_bigger.jpg'}, {'name': 'Foo Bar', 'screen_name': 'FooBar58986687', 'avatar': 'https://pbs.twimg.com/profile_images/1260097552310923264/M4sZYMg0_bigger.jpg'}, {'name': 'Bumbocles, Boy Wonder', 'screen_name': 'FooRadley', 'avatar': 'https://pbs.twimg.com/profile_images/1260777405775400960/sRxzKdAG_bigger.jpg'}, {'name': 'boo boo da foo', 'screen_name': 'marquis_kb', 'avatar': 'https://pbs.twimg.com/profile_images/1253844854385242113/uzDtpPwX_bigger.jpg'}, {'name': 'savage foo', 'screen_name': 'splitfucker', 'avatar': 'https://pbs.twimg.com/profile_images/1250260497514950658/G5VkV1u__bigger.jpg'}, {'name': 'Alvin Foo', 'screen_name': 'alvinfoo', 'avatar': 'https://pbs.twimg.com/profile_images/921877141389635584/ykzP1VKB_bigger.jpg'}, {'name': 'Foo foo Kitty', 'screen_name': 'Onechiquita', 'avatar': 'https://pbs.twimg.com/profile_images/1220420694434992129/MhX7YEFv_bigger.jpg'}, {'name': 'i really don’t know foo', 'screen_name': 'TheGoodJaz', 'avatar': 'https://pbs.twimg.com/profile_images/1253953905416761345/sGqKN2rJ_bigger.jpg'}, {'name': '.', 'screen_name': 'velaskoj', 'avatar': 'https://pbs.twimg.com/profile_images/1248731310362746882/DSaA2OU3_bigger.jpg'}, {'name': 'FooYa', 'screen_name': 'iFooYa', 'avatar': 'https://pbs.twimg.com/profile_images/1259297252805193728/xesq_Tnh_bigger.jpg'}, {'name': 'Ξric M. Ξsquivel', 'screen_name': 'ericMesquivel', 'avatar': 'https://pbs.twimg.com/profile_images/1157898393349267458/Kbxm75oj_bigger.jpg'}, {'name': 'Mark the Fox CEO of Gay and Cuties', 'screen_name': 'GayFuzzBall', 'avatar': 'https://pbs.twimg.com/profile_images/1256781591273181190/5dXUFE1d_bigger.jpg'}, {'name': 'The🐰FOO', 'screen_name': 'PolitiBunny', 'avatar': 'https://pbs.twimg.com/profile_images/1259665643722465283/vFoO67Ut_bigger.jpg'}, {'name': 'Alvin Foo', 'screen_name': 'alvinfoo', 'avatar': 'https://pbs.twimg.com/profile_images/921877141389635584/ykzP1VKB_bigger.jpg'}]\n"
     ]
    }
   ],
   "source": [
    "from scrapy import Selector\n",
    "f = open(\"C:/Users/KavithaYogaraj/Downloads/json.txt\") \n",
    "response = f.readlines()\n",
    "#print(response[0])\n",
    "html_page =  json.loads(response[0])['items_html']\n",
    "#print(html_page)\n",
    "page = Selector(text=html_page)\n",
    "# # ### for text only tweets\n",
    "items = page.xpath('//li[@data-item-type=\"tweet\"]/div')\n",
    "list_users = []\n",
    "print(len(items))\n",
    "# i=0\n",
    "for item in items:\n",
    "    #print(\"-->before parsing: \", item)\n",
    "    #list_users.append( item)\n",
    "    user =user()\n",
    "    user['name'] = item.xpath('.//@data-name').extract()[0]\n",
    "    user['screen_name'] = item.xpath('.//@data-screen-name').extract()[0]\n",
    "    user['avatar'] = item.xpath('.//div[@class=\"content\"]/div[@class=\"stream-item-header\"]/a/img/@src').extract()[0]\n",
    "    list_users.append(user)\n",
    "\n",
    "#     i+=1\n",
    "print(list_users)\n",
    "#print(len(list_users))\n",
    "# print(tweet)\n",
    "\n"
   ]
  },
  {
   "cell_type": "markdown",
   "metadata": {},
   "source": [
    "# TWEET "
   ]
  },
  {
   "cell_type": "code",
   "execution_count": 211,
   "metadata": {},
   "outputs": [
    {
     "name": "stdout",
     "output_type": "stream",
     "text": [
      "20\n",
      "20\n",
      "[{'usernameTweet': 'JobsLubbockTX', 'ID': '1260904455651934208', 'text': 'Slaton TX USA - Assistant Store Manager - Store 2079 - High School Degree or Equivalent 1-2 years o: High School Degree or Equivalent 1-2 years of successful management experience in the Convenience Store Retail Fast  Foo   http:// dld.bz/jdhTz \\xa0', 'url': '/JobsLubbockTX/status/1260904455651934208', 'nbr_retweet': 0, 'nbr_favorite': 0, 'nbr_reply': 0, 'datetime': '2020-05-14 17:37:03', 'is_reply': False, 'is_retweet': False, 'user_id': '1248287420224659457'}, {'usernameTweet': 'foo_benjamin', 'ID': '1260895074637897733', 'text': 'Do you remember when you joined Twitter? I do! #MyTwitterAnniversary pic.twitter.com/FqdvYzECWT', 'url': '/foo_benjamin/status/1260895074637897733', 'nbr_retweet': 0, 'nbr_favorite': 2, 'nbr_reply': 0, 'datetime': '2020-05-14 16:59:46', 'is_reply': False, 'is_retweet': False, 'user_id': '2547675497'}, {'usernameTweet': 'PolitiBunny', 'ID': '1260893611719262209', 'text': 'Sooooo cooping ourselves up indoors may not have been the best solution? https:// twitter.com/fcn2go/status/ 1260878773215539201 \\xa0 …', 'url': '/PolitiBunny/status/1260893611719262209', 'nbr_retweet': 57, 'nbr_favorite': 147, 'nbr_reply': 18, 'datetime': '2020-05-14 16:53:57', 'is_reply': False, 'is_retweet': False, 'user_id': '35051304'}, {'usernameTweet': 'JayceyFoo', 'ID': '1260876094061887489', 'text': 'I decided to try and draw my skullgirls team..\\n\\nI actually found myself smiling a lot drawing this. Thinking about how much this game means to me and the people i met thru it. Skullgirls owns. SGC owns. Play skullgirls. Fuck yeah. \\n\\n#Skullgirls   pic.twitter.com/RdXiCeCcFt', 'url': '/JayceyFoo/status/1260876094061887489', 'nbr_retweet': 20, 'nbr_favorite': 68, 'nbr_reply': 6, 'datetime': '2020-05-14 15:44:21', 'is_reply': False, 'is_retweet': False, 'user_id': '713134989077061632'}, {'usernameTweet': 'AStrongerOZ', 'ID': '1260868613012983808', 'text': '“When Someone Asks How Many Genders There Are” \\n\\nHilarious  \\n\\n#LGBT . pic.twitter.com/ln3oYTYnae', 'url': '/AStrongerOZ/status/1260868613012983808', 'nbr_retweet': 12, 'nbr_favorite': 23, 'nbr_reply': 2, 'datetime': '2020-05-14 15:14:37', 'is_reply': False, 'is_retweet': False, 'user_id': '4644292634'}, {'usernameTweet': 'TheFooCommunity', 'ID': '1260808193904529411', 'text': 'BUFFALO WILD WINGS IN DOWNEY    pic.twitter.com/UxrtpYkP5y', 'url': '/TheFooCommunity/status/1260808193904529411', 'nbr_retweet': 368, 'nbr_favorite': 1485, 'nbr_reply': 47, 'datetime': '2020-05-14 11:14:32', 'is_reply': False, 'is_retweet': False, 'user_id': '1084249241759899648'}, {'usernameTweet': 'fooIsbeer', 'ID': '1260797938965590016', 'text': 'n ways a bitch says hi    pic.twitter.com/iDBO8Jafub', 'url': '/fooIsbeer/status/1260797938965590016', 'nbr_retweet': 1, 'nbr_favorite': 60, 'nbr_reply': 18, 'datetime': '2020-05-14 10:33:47', 'is_reply': False, 'is_retweet': False, 'user_id': '2355276349'}, {'usernameTweet': 'FooBar58986687', 'ID': '1260778102717734913', 'text': 'Suggestions on dealing with work related anxieties?\\n\\nI am confused now \\nWhether I am working from home\\nOr\\nI live at work\\n\\n#100DaysOfCode  #covid19', 'url': '/FooBar58986687/status/1260778102717734913', 'nbr_retweet': 3, 'nbr_favorite': 0, 'nbr_reply': 0, 'datetime': '2020-05-14 09:14:58', 'is_reply': False, 'is_retweet': False, 'user_id': '1259082548488990720'}, {'usernameTweet': 'FooRadley', 'ID': '1260777525439090690', 'text': 'Once again, for attn pic.twitter.com/NgLqnOTM6y', 'url': '/FooRadley/status/1260777525439090690', 'nbr_retweet': 0, 'nbr_favorite': 12, 'nbr_reply': 2, 'datetime': '2020-05-14 09:12:40', 'is_reply': False, 'is_retweet': False, 'user_id': '875828500103651329'}, {'usernameTweet': 'marquis_kb', 'ID': '1260756281599471616', 'text': 'A nigga glowin durin this bullshit  pic.twitter.com/8AMlqfJ6Iw', 'url': '/marquis_kb/status/1260756281599471616', 'nbr_retweet': 0, 'nbr_favorite': 7, 'nbr_reply': 1, 'datetime': '2020-05-14 07:48:15', 'is_reply': False, 'is_retweet': False, 'user_id': '1183478642401107968'}, {'usernameTweet': 'splitfucker', 'ID': '1260724579590303745', 'text': 'staring at canvas like this  pic.twitter.com/CP1VCTxwi3', 'url': '/splitfucker/status/1260724579590303745', 'nbr_retweet': 3, 'nbr_favorite': 37, 'nbr_reply': 0, 'datetime': '2020-05-14 05:42:17', 'is_reply': False, 'is_retweet': False, 'user_id': '4066333512'}, {'usernameTweet': 'alvinfoo', 'ID': '1260719059617775617', 'text': '# Teamwork  makes dream work pic.twitter.com/PpRLnO1r1z', 'url': '/alvinfoo/status/1260719059617775617', 'nbr_retweet': 56, 'nbr_favorite': 102, 'nbr_reply': 4, 'datetime': '2020-05-14 05:20:21', 'is_reply': False, 'is_retweet': False, 'user_id': '794815'}, {'usernameTweet': 'Onechiquita', 'ID': '1260697877409488897', 'text': 'Shang has reopened! pic.twitter.com/ZYoXrXR0J3', 'url': '/Onechiquita/status/1260697877409488897', 'nbr_retweet': 2, 'nbr_favorite': 24, 'nbr_reply': 4, 'datetime': '2020-05-14 03:56:11', 'is_reply': False, 'is_retweet': False, 'user_id': '587523863'}, {'usernameTweet': 'TheGoodJaz', 'ID': '1260656031362772997', 'text': 'i love a nigga that know how to hold conversation. like pick my brain baby i like that shit ', 'url': '/TheGoodJaz/status/1260656031362772997', 'nbr_retweet': 15, 'nbr_favorite': 37, 'nbr_reply': 0, 'datetime': '2020-05-14 01:09:54', 'is_reply': False, 'is_retweet': False, 'user_id': '790361379555258372'}, {'usernameTweet': 'velaskoj', 'ID': '1260655192980086784', 'text': 'LMAOO Blueface man    foo  don’t gaf  pic.twitter.com/d982Bb1uxz', 'url': '/velaskoj/status/1260655192980086784', 'nbr_retweet': 17018, 'nbr_favorite': 75984, 'nbr_reply': 1861, 'datetime': '2020-05-14 01:06:34', 'is_reply': False, 'is_retweet': False, 'user_id': '1115098907329978369'}, {'usernameTweet': 'iFooYa', 'ID': '1260621648253685761', 'text': 'This is 100% not a selfie but a tactical way to show off the shirt. pic.twitter.com/BPOssgeKA4', 'url': '/iFooYa/status/1260621648253685761', 'nbr_retweet': 10, 'nbr_favorite': 1018, 'nbr_reply': 13, 'datetime': '2020-05-13 22:53:16', 'is_reply': False, 'is_retweet': False, 'user_id': '137482245'}, {'usernameTweet': 'ericMesquivel', 'ID': '1260619560056586240', 'text': '“Where you from,  foo ’?”\\n\\nI never thought I’d see a gang of flamingos bang on some pinguinos.\\n\\n@foosgonewild pic.twitter.com/pkN5adowzq', 'url': '/ericMesquivel/status/1260619560056586240', 'nbr_retweet': 72, 'nbr_favorite': 246, 'nbr_reply': 1, 'datetime': '2020-05-13 22:44:58', 'is_reply': False, 'is_retweet': False, 'user_id': '15166776'}, {'usernameTweet': 'GayFuzzBall', 'ID': '1260605411012554753', 'text': \"jack black if the  foo  fighters didn't fight the  foo   pic.twitter.com/FbARTURxMj\", 'url': '/GayFuzzBall/status/1260605411012554753', 'nbr_retweet': 3, 'nbr_favorite': 31, 'nbr_reply': 3, 'datetime': '2020-05-13 21:48:45', 'is_reply': False, 'is_retweet': False, 'user_id': '795104125755211776'}, {'usernameTweet': 'PolitiBunny', 'ID': '1260537341443100680', 'text': 'This. Has. Gone. Too. Far. https:// twitter.com/lynnwoodtimes/ status/1260429498966847494 \\xa0 …', 'url': '/PolitiBunny/status/1260537341443100680', 'nbr_retweet': 319, 'nbr_favorite': 1063, 'nbr_reply': 129, 'datetime': '2020-05-13 17:18:16', 'is_reply': False, 'is_retweet': False, 'user_id': '35051304'}, {'usernameTweet': 'alvinfoo', 'ID': '1260521424256565248', 'text': 'Best sales pitch  pic.twitter.com/3FWDhUDKt5', 'url': '/alvinfoo/status/1260521424256565248', 'nbr_retweet': 618, 'nbr_favorite': 1743, 'nbr_reply': 77, 'datetime': '2020-05-13 16:15:01', 'is_reply': False, 'is_retweet': False, 'user_id': '794815'}]\n"
     ]
    }
   ],
   "source": [
    "from scrapy import Selector\n",
    "f = open(\"C:/Users/KavithaYogaraj/Downloads/json.txt\") \n",
    "response = f.readlines()\n",
    "#print(response[0])\n",
    "html_page =  json.loads(response[0])['items_html']\n",
    "#print(html_page)\n",
    "page = Selector(text=html_page)\n",
    "# ### for text only tweets\n",
    "items = page.xpath('//li[@data-item-type=\"tweet\"]/div')\n",
    "list_tweets = []\n",
    "print(len(items))\n",
    "i=0\n",
    "for item in  items:\n",
    "    tweet =get_tweet(item)\n",
    "    list_tweets.append(tweet)\n",
    "    \n",
    "# print(list_users)\n",
    "print(len(list_tweets))\n",
    "print(list_tweets)\n",
    "\n"
   ]
  },
  {
   "cell_type": "code",
   "execution_count": 189,
   "metadata": {},
   "outputs": [],
   "source": [
    "from datetime import datetime\n",
    "\n",
    "def get_tweet(item):\n",
    "    tweet = {}\n",
    "    tweet['usernameTweet'] = item.xpath('.//span[@class=\"username u-dir u-textTruncate\"]/b/text()').extract()[0]\n",
    "\n",
    "    ID = item.xpath('.//@data-tweet-id').extract()\n",
    "    if not ID :\n",
    "        return tweet\n",
    "    tweet['ID'] = ID[0]\n",
    "\n",
    "    ### get text content\n",
    "    tweet['text'] = ' '.join(\n",
    "        item.xpath('.//div[@class=\"js-tweet-text-container\"]/p//text()').extract()).replace(' # ',\n",
    "                                                                                            '#').replace(\n",
    "        ' @ ', '@')\n",
    "    if tweet['text'] == '':\n",
    "        # If there is not text, we ignore the tweet\n",
    "        return tweet\n",
    "\n",
    "    ### get meta data\n",
    "    tweet['url'] = item.xpath('.//@data-permalink-path').extract()[0]\n",
    "\n",
    "    nbr_retweet = item.css('span.ProfileTweet-action--retweet > span.ProfileTweet-actionCount').xpath(\n",
    "        '@data-tweet-stat-count').extract()\n",
    "    if nbr_retweet:\n",
    "        tweet['nbr_retweet'] = int(nbr_retweet[0])\n",
    "    else:\n",
    "        tweet['nbr_retweet'] = 0\n",
    "\n",
    "    nbr_favorite = item.css('span.ProfileTweet-action--favorite > span.ProfileTweet-actionCount').xpath(\n",
    "        '@data-tweet-stat-count').extract()\n",
    "    if nbr_favorite:\n",
    "        tweet['nbr_favorite'] = int(nbr_favorite[0])\n",
    "    else:\n",
    "        tweet['nbr_favorite'] = 0\n",
    "\n",
    "    nbr_reply = item.css('span.ProfileTweet-action--reply > span.ProfileTweet-actionCount').xpath(\n",
    "        '@data-tweet-stat-count').extract()\n",
    "    if nbr_reply:\n",
    "        tweet['nbr_reply'] = int(nbr_reply[0])\n",
    "    else:\n",
    "        tweet['nbr_reply'] = 0\n",
    "    tweet['datetime'] = datetime.fromtimestamp(int(\n",
    "        item.xpath('.//div[@class=\"stream-item-header\"]/small[@class=\"time\"]/a/span/@data-time').extract()[\n",
    "            0])).strftime('%Y-%m-%d %H:%M:%S')\n",
    "\n",
    "    ### get photo\n",
    "    has_cards = item.xpath('.//@data-card-type').extract()\n",
    "    if has_cards and has_cards[0] == 'photo':\n",
    "        tweet['has_image'] = True\n",
    "        tweet['images'] = item.xpath('.//*/div/@data-image-url').extract()\n",
    "    elif has_cards:\n",
    "        logger.debug('Not handle \"data-card-type\":\\n%s' % item.xpath('.').extract()[0])\n",
    "\n",
    "    ### get animated_gif\n",
    "    has_cards = item.xpath('.//@data-card2-type').extract()\n",
    "    if has_cards:\n",
    "        if has_cards[0] == 'animated_gif':\n",
    "            tweet['has_video'] = True\n",
    "            tweet['videos'] = item.xpath('.//*/source/@video-src').extract()\n",
    "        elif has_cards[0] == 'player':\n",
    "            tweet['has_media'] = True\n",
    "            tweet['medias'] = item.xpath('.//*/div/@data-card-url').extract()\n",
    "        elif has_cards[0] == 'summary_large_image':\n",
    "            tweet['has_media'] = True\n",
    "            tweet['medias'] = item.xpath('.//*/div/@data-card-url').extract()\n",
    "        elif has_cards[0] == 'amplify':\n",
    "            tweet['has_media'] = True\n",
    "            tweet['medias'] = item.xpath('.//*/div/@data-card-url').extract()\n",
    "        elif has_cards[0] == 'summary':\n",
    "            tweet['has_media'] = True\n",
    "            tweet['medias'] = item.xpath('.//*/div/@data-card-url').extract()\n",
    "        elif has_cards[0] == '__entity_video':\n",
    "            pass  # TODO\n",
    "            # tweet['has_media'] = True\n",
    "            # tweet['medias'] = item.xpath('.//*/div/@data-src').extract()\n",
    "        else:  # there are many other types of card2 !!!!\n",
    "            logger.debug('Not handle \"data-card2-type\":\\n%s' % item.xpath('.').extract()[0])\n",
    "\n",
    "    is_reply = item.xpath('.//div[@class=\"ReplyingToContextBelowAuthor\"]').extract()\n",
    "    tweet['is_reply'] = is_reply != []\n",
    "\n",
    "    is_retweet = item.xpath('.//span[@class=\"js-retweet-text\"]').extract()\n",
    "    tweet['is_retweet'] = is_retweet != []\n",
    "\n",
    "    tweet['user_id'] = item.xpath('.//@data-user-id').extract()[0]\n",
    "    return tweet"
   ]
  },
  {
   "cell_type": "code",
   "execution_count": null,
   "metadata": {},
   "outputs": [],
   "source": []
  },
  {
   "cell_type": "code",
   "execution_count": 142,
   "metadata": {},
   "outputs": [],
   "source": [
    " def parse_tweet_item(items):\n",
    "    for item in items:\n",
    "        ### get user info\n",
    "        print(\"--> before processing: \",item)\n",
    "        user = get_user()\n",
    "        tweet = get_tweet()\n",
    "       "
   ]
  },
  {
   "cell_type": "code",
   "execution_count": null,
   "metadata": {},
   "outputs": [],
   "source": []
  },
  {
   "cell_type": "code",
   "execution_count": null,
   "metadata": {},
   "outputs": [],
   "source": []
  }
 ],
 "metadata": {
  "kernelspec": {
   "display_name": "Python 3",
   "language": "python",
   "name": "python3"
  },
  "language_info": {
   "codemirror_mode": {
    "name": "ipython",
    "version": 3
   },
   "file_extension": ".py",
   "mimetype": "text/x-python",
   "name": "python",
   "nbconvert_exporter": "python",
   "pygments_lexer": "ipython3",
   "version": "3.8.2"
  }
 },
 "nbformat": 4,
 "nbformat_minor": 4
}
