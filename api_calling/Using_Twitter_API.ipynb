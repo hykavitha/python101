{
 "cells": [
  {
   "cell_type": "code",
   "execution_count": 6,
   "metadata": {},
   "outputs": [],
   "source": [
    "import twitter\n",
    "\n",
    "# API key:LlyeHKBWGcKk4SMAvWb3eP0WM\n",
    "# API secret key:dm208Zh1eKvY7gjZfXUfMCB2WHSftvY4baPV3dSG67lfCU0AFf\n",
    "# Access token: 101480552-oczQh3LGX1Uk3Rfw6jdLttuOTZn2OBngyXzv6RxX\n",
    "# Access token secret:OtK7d9LOP29BG3bjtAovQT0CZxK1TNEV4onRI72a4eVee\n",
    "config = {\n",
    "    'consumer_key' :'LlyeHKBWGcKk4SMAvWb3eP0WM' ,\n",
    "    'consumer_secret': 'dm208Zh1eKvY7gjZfXUfMCB2WHSftvY4baPV3dSG67lfCU0AFf' ,\n",
    "    'access_token' : '101480552-oczQh3LGX1Uk3Rfw6jdLttuOTZn2OBngyXzv6RxX', \n",
    "    'access_token_secret' :'OtK7d9LOP29BG3bjtAovQT0CZxK1TNEV4onRI72a4eVee' \n",
    "    \n",
    "}\n",
    "user ='hykavitha'"
   ]
  },
  {
   "cell_type": "code",
   "execution_count": 3,
   "metadata": {},
   "outputs": [],
   "source": [
    "api = twitter.Api(consumer_key= config['consumer_key'],\n",
    "                  consumer_secret= config['consumer_secret'],\n",
    "                  access_token_key= config['access_token'],\n",
    "                  access_token_secret= config['access_token_secret'])"
   ]
  },
  {
   "cell_type": "code",
   "execution_count": 10,
   "metadata": {},
   "outputs": [
    {
     "name": "stdout",
     "output_type": "stream",
     "text": [
      "['New Life https://t.co/qazTtnVC7G via @YouTube', 'https://t.co/k0HT1nNkRK\\n\\nMobile app for TMDB to search and get all the movie information.', 'https://t.co/REV9CWdZpE', 'Pre-save my new release \"New Life\" on Spotify: https://t.co/NpHgkq7bxS (powered by @distrokid)', 'New Life https://t.co/qazTtnVC7G via @YouTube', 'Check out my new single \"New Life\" distributed by @DistroKid and live on Google Play! https://t.co/q9LW3qyAvV', 'RT @mmkeeravaani: No sweets. Only Ilaiyaraaja ❤️ https://t.co/dK8er5uJHz', 'New Life https://t.co/qazTtnVC7G via @YouTube', 'New Life https://t.co/qazTtnVC7G via @YouTube', 'RT @narendramodi: Stay at home and do not step out until it is absolutely essential.\\n\\nI specially urge the elderly to not venture out of th…', '@seemohan @IBM @IBMResearch Very sad to hear, at the same time. Very happy for you. You have been a great inspirati… https://t.co/q5NGYFgFfE', 'https://t.co/hXFmawh1rk', 'RT @wonderofscience: This is what Tesla Autopilot sees using neural networks that take 70,000 GPU hours to train and output 1,000 tensors (…', '@sreek Congratulations man. Big deal.', 'Augmented reality contacts are real, and could be here sooner than you think https://t.co/wSDamaPTdF', 'Bill Gates Says That These Are 5 of His Favorite TED Talks (You Might Be Surprised) https://t.co/KcHkVXlvV4', 'RT @DoubleMProd_: Brace yourselves for another masterpiece by the #maestro, releasing today at 4pm!\\n\\n#Mysskin #ilaiyaraaja @Udhaystalin @Ma…', 'RT @ibm_in: \"When we put human skills with #ML, there is immense scope to combat fraud, to improve our systems and citizen-centric delivery…', 'RT @ajaychebbi: Are you a #WomenWhoCode #GirlsWhoCode  looking for a job in product development? @ibm_in is a vibrant place! DM me if you h…', 'RT @ibm_in: In 2020, 3 themes will shape the advancement of #ArtificialInteligence: \\n➡️#Automation \\n➡️Natural language processing (#NLP)…']\n"
     ]
    }
   ],
   "source": [
    "statuses = api.GetUserTimeline(26797501)\n",
    "print([s.text for s in statuses])"
   ]
  },
  {
   "cell_type": "code",
   "execution_count": 8,
   "metadata": {},
   "outputs": [],
   "source": [
    "users = api.GetFriends()"
   ]
  },
  {
   "cell_type": "code",
   "execution_count": 9,
   "metadata": {},
   "outputs": [
    {
     "data": {
      "text/plain": [
       "[User(ID=1100923445368549381, ScreenName=abe_asfaw),\n",
       " User(ID=1219814842942406656, ScreenName=IndiQmeetups),\n",
       " User(ID=912995043845210112, ScreenName=qiskit),\n",
       " User(ID=3357857123, ScreenName=jaygambetta),\n",
       " User(ID=240649814, ScreenName=TimesNow),\n",
       " User(ID=26797501, ScreenName=abvijaykumar),\n",
       " User(ID=2872554463, ScreenName=KaranBajwa_IN),\n",
       " User(ID=54829997, ScreenName=AnushkaSharma),\n",
       " User(ID=31348594, ScreenName=akshaykumar),\n",
       " User(ID=885487044243238912, ScreenName=rashtrapatibhvn),\n",
       " User(ID=101311381, ScreenName=iamsrk),\n",
       " User(ID=145125358, ScreenName=SrBachchan),\n",
       " User(ID=132385468, ScreenName=BeingSalmanKhan),\n",
       " User(ID=87170183, ScreenName=juniorbachchan),\n",
       " User(ID=513067381, ScreenName=satyamevjayate),\n",
       " User(ID=113419517, ScreenName=iHrithik),\n",
       " User(ID=135421739, ScreenName=sachin_rt),\n",
       " User(ID=1962224023, ScreenName=barryintech),\n",
       " User(ID=555031989, ScreenName=Ronald_vanLoon),\n",
       " User(ID=41603960, ScreenName=alexstamos),\n",
       " User(ID=67611162, ScreenName=SadhguruJV),\n",
       " User(ID=191768572, ScreenName=indiatimes),\n",
       " User(ID=843085997483077632, ScreenName=IndiaisIndia007),\n",
       " User(ID=1346439824, ScreenName=rajnathsingh),\n",
       " User(ID=68977380, ScreenName=thekiranbedi),\n",
       " User(ID=130104041, ScreenName=smritiirani),\n",
       " User(ID=219617448, ScreenName=SushmaSwaraj),\n",
       " User(ID=18839785, ScreenName=narendramodi),\n",
       " User(ID=61126132, ScreenName=SriSri),\n",
       " User(ID=5402612, ScreenName=BBCBreaking),\n",
       " User(ID=822215679726100480, ScreenName=POTUS),\n",
       " User(ID=25073877, ScreenName=realDonaldTrump),\n",
       " User(ID=813286, ScreenName=BarackObama),\n",
       " User(ID=16664681, ScreenName=latimes),\n",
       " User(ID=46509210, ScreenName=PSETalk),\n",
       " User(ID=428333, ScreenName=cnnbrk),\n",
       " User(ID=405427035, ScreenName=ArvindKejriwal),\n",
       " User(ID=2494348580, ScreenName=getdatafinder),\n",
       " User(ID=471741741, ScreenName=PMOIndia),\n",
       " User(ID=24501851, ScreenName=taylanbil),\n",
       " User(ID=49570583, ScreenName=wesnoel),\n",
       " User(ID=13058772, ScreenName=LinkedIn),\n",
       " User(ID=20793816, ScreenName=amazon),\n",
       " User(ID=783214, ScreenName=Twitter),\n",
       " User(ID=74286565, ScreenName=Microsoft),\n",
       " User(ID=20536157, ScreenName=Google),\n",
       " User(ID=50001997, ScreenName=icrunchdata),\n",
       " User(ID=59918812, ScreenName=gooddata),\n",
       " User(ID=188906870, ScreenName=AstroKev),\n",
       " User(ID=815712391, ScreenName=versiumsocial),\n",
       " User(ID=3221603562, ScreenName=breakoutrevenue),\n",
       " User(ID=44588485, ScreenName=chetan_bhagat),\n",
       " User(ID=43568964, ScreenName=virsanghvi),\n",
       " User(ID=57928790, ScreenName=karanjohar),\n",
       " User(ID=16542390, ScreenName=ESPNcricinfo),\n",
       " User(ID=56866150, ScreenName=coderanch),\n",
       " User(ID=24705126, ScreenName=ShashiTharoor),\n",
       " User(ID=45790984, ScreenName=reninjohn),\n",
       " User(ID=28567590, ScreenName=manjunath_26),\n",
       " User(ID=57165242, ScreenName=deepthikp),\n",
       " User(ID=9987772, ScreenName=happyschools),\n",
       " User(ID=48242643, ScreenName=Umesh69N),\n",
       " User(ID=77352920, ScreenName=meghashirish),\n",
       " User(ID=100417796, ScreenName=dj_gr8)]"
      ]
     },
     "execution_count": 9,
     "metadata": {},
     "output_type": "execute_result"
    }
   ],
   "source": [
    "users"
   ]
  },
  {
   "cell_type": "code",
   "execution_count": 13,
   "metadata": {},
   "outputs": [],
   "source": [
    "results = api.GetSearch(\n",
    "    raw_query=\"q=covid&result_type=recent&since=2020-05-14&count=100\")"
   ]
  },
  {
   "cell_type": "code",
   "execution_count": 14,
   "metadata": {},
   "outputs": [
    {
     "data": {
      "text/plain": [
       "[Status(ID=1260851889014521856, ScreenName=mistryofficial, Created=Thu May 14 08:38:10 +0000 2020, Text='RT @htTweets: #CoronavirusOutbreak | Twin antibodies that may help fight Covid-19 identified\\n\\nhttps://t.co/ys8FhMPg9w https://t.co/8nPwdU95…'),\n",
       " Status(ID=1260851888867512327, ScreenName=TheGronk2, Created=Thu May 14 08:38:10 +0000 2020, Text='@realDonaldTrump POTUS is consistently embarassing  As predicted by the international community.  Trump today savag… https://t.co/7iaMB6XCOb'),\n",
       " Status(ID=1260851888842571777, ScreenName=JhonUrrego18, Created=Thu May 14 08:38:10 +0000 2020, Text='RT @abc_es: Plaga de colchones tirados en la calle tras las muertes por Covid-19 https://t.co/D3iDvqgGYx'),\n",
       " Status(ID=1260851888808882176, ScreenName=ChadOhidur, Created=Thu May 14 08:38:10 +0000 2020, Text='Black light video shows speed of Covid-19 spread https://t.co/njbverupGl via @YouTube'),\n",
       " Status(ID=1260851888402034689, ScreenName=dasuki_21257, Created=Thu May 14 08:38:10 +0000 2020, Text='@alvinlie21 Menandakan keberhasilan bahwa saat ini hrs dapat beradaptasi, berdamai dg covid-19 yg vaksin dan obatny… https://t.co/E7W3sNQdL5'),\n",
       " Status(ID=1260851888196648960, ScreenName=kfirdaus97, Created=Thu May 14 08:38:10 +0000 2020, Text='RT @KKMPutrajaya: Kementerian Kesihatan Malaysia telah menyediakan lawan web khas COVID-19 yang boleh dilayari  di https://t.co/jANTvDe7IQ…'),\n",
       " Status(ID=1260851888154718208, ScreenName=LizaAntrim, Created=Thu May 14 08:38:10 +0000 2020, Text='RT @johnpilger: Under cover of a crisis, Health Secretary Matt Hancock has struck a secret deal with US tech giants to deliver a \"COVID-19…'),\n",
       " Status(ID=1260851888070840320, ScreenName=carolmacqueen, Created=Thu May 14 08:38:10 +0000 2020, Text='RT @jayceebrownbook: Thousands of NHS staff working while infected with coronavirus, study suggests https://t.co/eh7Qlr0xOG'),\n",
       " Status(ID=1260851887907069953, ScreenName=x3bUupyxSGQcagn, Created=Thu May 14 08:38:10 +0000 2020, Text='RT @TomoMachi: アメリカのWEBニュースDaily Beastが、「安倍政権の守護神」黒川検事長の定年延長をThief in the Fire（火事場泥棒）と報じています。 https://t.co/kWvCp6oyrm'),\n",
       " Status(ID=1260851887613415426, ScreenName=Munin78244166, Created=Thu May 14 08:38:10 +0000 2020, Text='Update รายละเอียดผู้ป่วย COVID-19 (ข้อมูลเพิ่มเติม)\\n\\nhttps://t.co/iaq4vEDTxZ https://t.co/fWM9NTA0Aj'),\n",
       " Status(ID=1260851886971924481, ScreenName=alanofarrell, Created=Thu May 14 08:38:10 +0000 2020, Text='RT @JohnRuddick2: Of all the COVID data flying around this @Adam_Creighton tweet is the most compelling.\\n\\n1. govt modelling said if we did…'),\n",
       " Status(ID=1260851885910757377, ScreenName=LugalKiEn19, Created=Thu May 14 08:38:09 +0000 2020, Text='RT @ONEXXIII: Доброе утро, COVID-диссиденты https://t.co/mY5Gy5dfI9'),\n",
       " Status(ID=1260851885763891200, ScreenName=thegoldstripe, Created=Thu May 14 08:38:09 +0000 2020, Text='Deal Pipelines Trending Upward in May’s Second Week [COVID-19 Benchmark Data] via Marketing https://t.co/ZaXyJ08K1X'),\n",
       " Status(ID=1260851885516500992, ScreenName=shaistaAziz, Created=Thu May 14 08:38:09 +0000 2020, Text=\"RT @SolaceWomensAid: Together with @SBSisters we're proud to launch our crisis accommodation project for abused women in London, especially…\"),\n",
       " Status(ID=1260851885323550720, ScreenName=chauhanannant1, Created=Thu May 14 08:38:09 +0000 2020, Text=\"RT @narendramodi: The post COVID-19 era will bring with it several opportunities and India's track record convinces me we will rise to the…\"),\n",
       " Status(ID=1260851885302579203, ScreenName=Peny63801578, Created=Thu May 14 08:38:09 +0000 2020, Text='RT @GuillemCristo: @paseamosjuntos No, no les deseo a estos millonarios nada malo, sólo que el #Covid_19 entable amistad con ellos 👍'),\n",
       " Status(ID=1260851885248045057, ScreenName=amc2412, Created=Thu May 14 08:38:09 +0000 2020, Text='RT @almudenanegro: 👏👏 @AlmeidaPP_ arrasa tras su gestión del Covid-19: tendría tantos ediles (21) como la suma de PSOE y Más Madrid: https:…'),\n",
       " Status(ID=1260851885122048000, ScreenName=mdheanw, Created=Thu May 14 08:38:09 +0000 2020, Text='Surat keterangan bebas Covid-19 dijual di Tokopedia. What a lovely country.'),\n",
       " Status(ID=1260851885029785600, ScreenName=annaruthdantas, Created=Thu May 14 08:38:09 +0000 2020, Text='Covid-19: Estado e Município de Natal têm 48 horas para se manifestar sobre pedido de “lockdown” - https://t.co/h3gtRXggFf'),\n",
       " Status(ID=1260851885004804096, ScreenName=OliverIam_, Created=Thu May 14 08:38:09 +0000 2020, Text='RT @Chea_Taylor: Drive In Movie Theaters Can Honestly Make A Strong Comeback Due To COVID-19'),\n",
       " Status(ID=1260851884811788290, ScreenName=SANPFW, Created=Thu May 14 08:38:09 +0000 2020, Text='“Make no mistake—we were ready before COVID-19 and we are ready now.” Learn how our #ICBM forces are continuing to… https://t.co/nh6qG3mfAU'),\n",
       " Status(ID=1260851884803440641, ScreenName=Beaudoi40588036, Created=Thu May 14 08:38:09 +0000 2020, Text=\"RT @BoyerKelli: @johncardillo If Hillary had won, wouldn't have needed Covid-19 she had other plans more sinister\"),\n",
       " Status(ID=1260851884505481216, ScreenName=Pepi_AlPahlevi, Created=Thu May 14 08:38:09 +0000 2020, Text='RT @ustadtengkuzul: Sudah begini keadaan negara, DPR RI diam saja.Malah mendukung RUU Covid 19.\\nMahasiswa pun diam seribu bahasa.\\nSaya menu…'),\n",
       " Status(ID=1260851884434300928, ScreenName=agusticlara, Created=Thu May 14 08:38:09 +0000 2020, Text='RT @jtepper2: The idea that Covid will change the way we live is completely absurd and sensationalistic.\\n\\nThe 1918 Influenza killed over 50…'),\n",
       " Status(ID=1260851884417380352, ScreenName=havre5st, Created=Thu May 14 08:38:09 +0000 2020, Text='RT @TomoMachi: アメリカのWEBニュースDaily Beastが、「安倍政権の守護神」黒川検事長の定年延長をThief in the Fire（火事場泥棒）と報じています。 https://t.co/kWvCp6oyrm'),\n",
       " Status(ID=1260851883897319425, ScreenName=jsfidelino, Created=Thu May 14 08:38:09 +0000 2020, Text='RT @fayeallennnn: This angers me the most. My mom is a nurse (Covid isolation area). I haven’t seen her since March 20 because she’s been s…'),\n",
       " Status(ID=1260851883855548416, ScreenName=zeratustraum, Created=Thu May 14 08:38:09 +0000 2020, Text='RT @mariozinholago: Peço que ajudem a divulgar entrevista da Nísia, presidente da Fiocruz.\\nA direita fascista desse país está atacando Nísi…'),\n",
       " Status(ID=1260851883478056960, ScreenName=JoernWeitzmann, Created=Thu May 14 08:38:09 +0000 2020, Text='Coronavirus: Pelztiere erkranken massenhaft an Covid-19 https://t.co/9labUEeWvK'),\n",
       " Status(ID=1260851882991316992, ScreenName=ZeroCircle2, Created=Thu May 14 08:38:09 +0000 2020, Text=\"RT @ygjumi: #COVID19 はあらゆる病気を引き起こすかのように思える。\\n\\nThe 'Great Imitator': How COVID-19 Can Look Like Almost Any Condition\\n\\nhttps://t.co/Kmw8VRNYaG\"),\n",
       " Status(ID=1260851882832138241, ScreenName=moselo7, Created=Thu May 14 08:38:09 +0000 2020, Text='RT @cnni: An American pilot died when her plane malfunctioned while she was on her way to deliver Covid-19 rapid test kits to a remote Indo…'),\n",
       " Status(ID=1260851882077106178, ScreenName=ObaidaHitto, Created=Thu May 14 08:38:08 +0000 2020, Text=\"RT @trtworld: WHO has warned that war-torn Yemen's medical infrastructure, which has been devastated by civil war since 2015, cannot handle…\"),\n",
       " Status(ID=1260851882001604609, ScreenName=GaureshVagal95, Created=Thu May 14 08:38:08 +0000 2020, Text='RT @TOIMumbai: Mumbai: Liquor worth Rs 3.25 lakh recovered from an ambulance in Nalasopara, which is one of the hotspots of Covid-19. #Liqu…'),\n",
       " Status(ID=1260851881582252033, ScreenName=Spunjji, Created=Thu May 14 08:38:08 +0000 2020, Text='@BreesAnna You realise this is the same old patronising and debunked \"we can\\'t give people good benefits / sanitary… https://t.co/nE73PoNitS'),\n",
       " Status(ID=1260851881439608834, ScreenName=uk_libertarian, Created=Thu May 14 08:38:08 +0000 2020, Text='RT @KirstieMAllsopp: The Covid mortality rate for children is 0.01% roughly the same as seasonal flu and if you don’t believe me ask @BBCNe…'),\n",
       " Status(ID=1260851881296957440, ScreenName=hospitalclinic, Created=Thu May 14 08:38:08 +0000 2020, Text='Si una persona amb diabetis es contagia de la #COVID-19, la diabetis es pot descompensar i les complicacions de la… https://t.co/fAhruHpN0S'),\n",
       " Status(ID=1260851881057738753, ScreenName=rnzsvnts, Created=Thu May 14 08:38:08 +0000 2020, Text='RT @fayeallennnn: This angers me the most. My mom is a nurse (Covid isolation area). I haven’t seen her since March 20 because she’s been s…'),\n",
       " Status(ID=1260851880898580482, ScreenName=GingerNunya, Created=Thu May 14 08:38:08 +0000 2020, Text=\"@GovWhitmer @GovWhitmer please explain why you want to keep extending lockdown when it's already accomplished is go… https://t.co/s5JZbKWmIB\"),\n",
       " Status(ID=1260851880638337024, ScreenName=vinarao_lorna, Created=Thu May 14 08:38:08 +0000 2020, Text='RT @maryannbernade1: Bago kayo maniwala sa bakla nyong manok,hingan nyo muna ng pic na magkasama sila,sa palagay nyo ba lalapit si M dyan?…'),\n",
       " Status(ID=1260851879996776451, ScreenName=joebmm, Created=Thu May 14 08:38:08 +0000 2020, Text=\"@NHSuk The UK's coronavirus death toll has overtaken Italy's to become the highest in Europe. With over 32,000 deat… https://t.co/8irNh3pq3c\"),\n",
       " Status(ID=1260851879543803904, ScreenName=CMamathi, Created=Thu May 14 08:38:08 +0000 2020, Text='RT @evilemperorzeb: https://t.co/iF2yCqMSDE'),\n",
       " Status(ID=1260851878793019392, ScreenName=hakaido2, Created=Thu May 14 08:38:08 +0000 2020, Text='RT @WBTanzania: Latest data from World Travel &amp; Tourism Council shows 50M jobs are at risk in Tourism sector globally due to #COVID-19  – a…'),\n",
       " Status(ID=1260851878793003008, ScreenName=ICUsteps, Created=Thu May 14 08:38:08 +0000 2020, Text='RT @theRCOT: What is the PPE guidance for occupational therapists working with children?’\\n\\nWe’ve updated our guidance under ‘Supporting chi…'),\n",
       " Status(ID=1260851878713339910, ScreenName=LegalWorld_RH, Created=Thu May 14 08:38:08 +0000 2020, Text='obliger les travailleurs à revenir sur le lieu de travail ou maintenir le #teletravail  #coronavirus #COVIDー19 \\nhttps://t.co/l8qvzsQ8yy'),\n",
       " Status(ID=1260851878562324480, ScreenName=TheGreatRejoin, Created=Thu May 14 08:38:08 +0000 2020, Text='RT @Himself132: Does anyone else get the impression that Boris Johnson is nearing the end of his short, unhappy occupancy of number 10? Wil…'),\n",
       " Status(ID=1260851878339981312, ScreenName=kadirbac2, Created=Thu May 14 08:38:07 +0000 2020, Text='RT @ttborgtr: Covıd-19 salgını döneminde emeği ve özverisi daha da görünür olan bütün Eczacılarımızın \"14 Mayıs Eczacılık Günü\" kutlu olsun…'),\n",
       " Status(ID=1260851878021279748, ScreenName=shehzadyounis, Created=Thu May 14 08:38:07 +0000 2020, Text='How expensive will air travel be after the Covid-19 crisis? https://t.co/AQ95Fh5HsZ'),\n",
       " Status(ID=1260851878017077250, ScreenName=_daltonvick_20, Created=Thu May 14 08:38:07 +0000 2020, Text='RT @JKNjenga: OUR PROBLEMS\\n- Covid-19,\\n- Food Shortage,\\n- Unemployment,\\n- Business closure,\\n- Job losses,\\n- Debt Distress\\n\\nOUR PRIORITIES\\n-…'),\n",
       " Status(ID=1260851878008688640, ScreenName=CucuTrass, Created=Thu May 14 08:38:07 +0000 2020, Text='@MartaPastor @entoniriera Y la misma era la población de riesgo para el VIH por entonces que la del COVID en la act… https://t.co/z71SSRlDKF'),\n",
       " Status(ID=1260851877991927808, ScreenName=iShaishavSarang, Created=Thu May 14 08:38:07 +0000 2020, Text='RT @shripadynaik: The @moayush &amp; the @CSIR_IND are working together on validating four Ayush formulations against #COVID19Pandemic and the…'),\n",
       " Status(ID=1260851877719072771, ScreenName=gopiharan, Created=Thu May 14 08:38:07 +0000 2020, Text='RT @WHOSriLanka: Download the WHO Academy app today! \\n\\nDesigned to support health workers to easily access all WHO COVID-19 guidance, tools…'),\n",
       " Status(ID=1260851877391896576, ScreenName=thehawk, Created=Thu May 14 08:38:07 +0000 2020, Text='China reports 15 new COVID-19 cases, Wuhan begins mass testing https://t.co/I7PdcMI4I9'),\n",
       " Status(ID=1260851877278822400, ScreenName=briguzia, Created=Thu May 14 08:38:07 +0000 2020, Text='Giorno 64.\\n\\nSono in modalità #smartworking e quindi #iorestoacasa\\xa0per forza.\\n\\nComincio ad averne i Tweet pieni.… https://t.co/bVb1HfHaIc'),\n",
       " Status(ID=1260851877186428928, ScreenName=DixitPintoo, Created=Thu May 14 08:38:07 +0000 2020, Text='RT @DChaurasia2312: कोरोना काल में अब #AtmaNirbharBharatAbhiyan में मैंने भी अपनी तरफ़ से एक प्रण लिया है। आज से सिर्फ़ स्वदेशी ब्रांड का…'),\n",
       " Status(ID=1260851877001990144, ScreenName=5Kmph, Created=Thu May 14 08:38:07 +0000 2020, Text='RT @eladgil: Science Magazine paper on France and COVID-19.\\n\\nDeath rate of 0.001% in under 20 years old, 10.1% in over age 80.\\n\\nhttps://t.c…'),\n",
       " Status(ID=1260851876985057281, ScreenName=TAK_KAMEKUBO, Created=Thu May 14 08:38:07 +0000 2020, Text='RT @Kyukimasa: 新型コロナウイルス関連の論文が多すぎる問題\\nhttps://t.co/7DWoioBzP9\\n週に4000本も出ていて、重要な発見してる論文が埋もれてしまっている可能性。\\nアーカイブにある約4万の論文の中から機械学習とデータマイニング手法で探し出そう…'),\n",
       " Status(ID=1260851876519690240, ScreenName=SJA_McC, Created=Thu May 14 08:38:07 +0000 2020, Text='RT @StefSimanowitz: The smoking gun of govt care home policy?\\n\\nGovt advice from 2 April.\\n\\n“Some of these patients may have #COVOD19. All ca…'),\n",
       " Status(ID=1260851876515340288, ScreenName=nickbruechle, Created=Thu May 14 08:38:07 +0000 2020, Text='RT @johnpilger: Under cover of a crisis, Health Secretary Matt Hancock has struck a secret deal with US tech giants to deliver a \"COVID-19…'),\n",
       " Status(ID=1260851876171526144, ScreenName=WambutsiStacy, Created=Thu May 14 08:38:07 +0000 2020, Text='RT @rkabushenga: @cobbo3 Artemisia-based. Can we find scientists who can explain this, hydroxychloroquine, malaria, COVID &amp; Africa?'),\n",
       " Status(ID=1260851875961868289, ScreenName=MaximaMaximum, Created=Thu May 14 08:38:07 +0000 2020, Text='RT @thehill: NY Gov. Cuomo: \"Now we\\'re seeing cases that the Department of Health is investigating... looking at 102 cases where children w…'),\n",
       " Status(ID=1260851875844255750, ScreenName=JoyOfDachshunds, Created=Thu May 14 08:38:07 +0000 2020, Text='RT @ASlavitt: At a time when some Americans are worried about their rights being infringed upon, Trump is asking Americans to give up right…'),\n",
       " Status(ID=1260851875840212992, ScreenName=IUAofficial, Created=Thu May 14 08:38:07 +0000 2020, Text='Some of our top researchers have come together in groups such as the HSE COVID-19 Laboratory R&amp;D Product Solutions… https://t.co/8hGMHDNw6v'),\n",
       " Status(ID=1260851875622125569, ScreenName=mercedesgp94, Created=Thu May 14 08:38:07 +0000 2020, Text=\"RT @VaneLillo: ¿Por qué contratan una empresa para 'Píldoras informativas sobre #Covid-19' por algo que podía hacer RTVM?\\n\\nPorque el despre…\"),\n",
       " Status(ID=1260851875609526272, ScreenName=chantal_oiseau, Created=Thu May 14 08:38:07 +0000 2020, Text='@BattDavey World is fucked. My one biggest wish is that covid-19 changes the way we are for the better.'),\n",
       " Status(ID=1260851875219410944, ScreenName=KabeloRamoshab3, Created=Thu May 14 08:38:07 +0000 2020, Text='@DrZweliMkhize In late 2019 you said your department is ready for covid 19. Is this lockdown and levels part of you… https://t.co/d034nq8Fuh'),\n",
       " Status(ID=1260851874837622785, ScreenName=ThereseHobbs10, Created=Thu May 14 08:38:07 +0000 2020, Text='Which lot of experts is that, we have Climate experts, COVID experts, health experts, Expert experts, which ones? https://t.co/Guj8xN74cR'),\n",
       " Status(ID=1260851874456047617, ScreenName=IndiasMuslims, Created=Thu May 14 08:38:07 +0000 2020, Text=\"RT @DeshmaneAkshay: The govt didn't involve anyone from medical fraternity “in anything related to COVID”, Mona P Desai, the Ahmadabad Medi…\"),\n",
       " Status(ID=1260851874191806469, ScreenName=superprincipe83, Created=Thu May 14 08:38:06 +0000 2020, Text='RT @ChiodiDonatella: #PAKISTAN:\\n#ISLAMICI E #ONG NEGANO\\nAIUTI AI #CRISTIANI CONTRO\\nIL #CORONAVIRUS.\\n\\nNiente cibo.\\nNiente medicine.\\nNiente a…'),\n",
       " Status(ID=1260851873776463872, ScreenName=Sajplayer, Created=Thu May 14 08:38:06 +0000 2020, Text='RT @davidaxelrod: So the Barr-led Bureau of Prisons frees Manafort to serve the REMAINING FOUR YEARS of his sentence at home despite the fa…'),\n",
       " Status(ID=1260851873386426368, ScreenName=SkPpla, Created=Thu May 14 08:38:06 +0000 2020, Text='RT @suthichai: WHO เตือน\\nCovid-19 อาจอยู่กับเราไปตลอด!'),\n",
       " Status(ID=1260851873080242177, ScreenName=mbvukutaphiri, Created=Thu May 14 08:38:06 +0000 2020, Text='This is for your pleasure 🎻🎸🎺🎷🥁🎤. be and stay blessed. Be safe in times of COVID-19.  – ♫Mother by Charlie Puth, fr… https://t.co/JKZULGPZbq'),\n",
       " Status(ID=1260851872996474887, ScreenName=Jung19477544, Created=Thu May 14 08:38:06 +0000 2020, Text='RT @johnpilger: Under cover of a crisis, Health Secretary Matt Hancock has struck a secret deal with US tech giants to deliver a \"COVID-19…'),\n",
       " Status(ID=1260851872740438017, ScreenName=SauravMin2, Created=Thu May 14 08:38:06 +0000 2020, Text='RT @priyankadeo: CM Bannerjee misleading:\\n-Jan 2020: CAA protects BJP foreign money &amp; GoI will only helps these ppl\\n-hiding COVID+ bodies a…'),\n",
       " Status(ID=1260851872686125056, ScreenName=acgrayling, Created=Thu May 14 08:38:06 +0000 2020, Text='RT @DaveCampaigns: Tory Ministers on #covi19 recently\\n\\n1 Accidentally made it illegal to drive to Wales\\n2 Stated, wrongly, that Covid-19 is…'),\n",
       " Status(ID=1260851872488816640, ScreenName=Firn_7, Created=Thu May 14 08:38:06 +0000 2020, Text='RT @TNAMCOT: กพท.ออกประกาศเพิ่มเติม ให้สนามบินภูเก็ตสามารถเปิดใช้บริการได้ เริ่ม 16 พ.ค.นี้ หลังคุมสถานการณ์โควิด-19 ได้ดี\\n\\n📌เกาะติดข่าวโค…'),\n",
       " Status(ID=1260851872203780096, ScreenName=Saodionisio, Created=Thu May 14 08:38:06 +0000 2020, Text='RT @ctxt_es: Sobre el derecho a sufrir\\n\"Es un buen momento, en efecto, para reivindicar, al contrario, nuestro derecho inalienable a sufrir…'),\n",
       " Status(ID=1260851871624892417, ScreenName=afripostng, Created=Thu May 14 08:38:06 +0000 2020, Text='French pharmaceutical giant, Sanofi to make COVID-19 vaccine available to all – Official\\xa0 https://t.co/5qItZovHUb'),\n",
       " Status(ID=1260851871557619713, ScreenName=NotSoSnob, Created=Thu May 14 08:38:06 +0000 2020, Text='RT @logic: Breaking : All ATM withdrawals during the time of COVID is considered to be part or relief package.'),\n",
       " Status(ID=1260851871452987392, ScreenName=rosarosaerosa4, Created=Thu May 14 08:38:06 +0000 2020, Text='RT @Sentid2016Comun: Isabel Díaz Ayuso dijo que se confinaba en el hotel por su positivo en COVID-19. Que miente lo reconoce hasta Kike Sar…'),\n",
       " Status(ID=1260851871260061697, ScreenName=hospitalclinic, Created=Thu May 14 08:38:06 +0000 2020, Text='If a person with diabetes becomes infected with #COVID-19, diabetes can be decompensated and the complications of C… https://t.co/qvn5MT1LOx'),\n",
       " Status(ID=1260851871109054465, ScreenName=opsyzy, Created=Thu May 14 08:38:06 +0000 2020, Text=\"RT @dataquestio: We know times are tough for a lot of folks, so we've opened another round of our Financial Aid scholarship for application…\"),\n",
       " Status(ID=1260851870240657412, ScreenName=ajaysuraTOI, Created=Thu May 14 08:38:06 +0000 2020, Text='Majority of Haryana Covid-19 cases younger than 44 years https://t.co/XR6BkFYLyq via @timesofindia @cmohry… https://t.co/1gbygg37E7'),\n",
       " Status(ID=1260851869976596480, ScreenName=sefakardas1967, Created=Thu May 14 08:38:05 +0000 2020, Text='2020 yılından sonra doğacak çocuklara verilebilecek yeni isimler: Koronay, Covid Can, Covidân, Pandemir, Pandemiral… https://t.co/cVxbVRqMSn'),\n",
       " Status(ID=1260851869741731840, ScreenName=RuleBrexitannia, Created=Thu May 14 08:38:05 +0000 2020, Text=\"RT @nypost: Greta Thunberg added to CNN's expert coronavirus panel, Twitter erupts https://t.co/43N4xCUSzE https://t.co/2ncP96fWT2\"),\n",
       " Status(ID=1260851869330673666, ScreenName=betovphotmailc1, Created=Thu May 14 08:38:05 +0000 2020, Text='RT @FlavioBolsonaro: Exames de Bolsonaro negativos para COVID-19. Não valeu sua palavra, nem o CRM do médico que assinou o relatório. Prece…'),\n",
       " Status(ID=1260851868990914560, ScreenName=AltomVB, Created=Thu May 14 08:38:05 +0000 2020, Text='VB-truppen ramt af corona: Spiller er smittet med Covid-19 #vb #Vejleb #Vejleboldklub #sldk https://t.co/3CX0OW2khH'),\n",
       " Status(ID=1260851868986638336, ScreenName=cvngnews, Created=Thu May 14 08:38:05 +0000 2020, Text='Kwara records nine new cases of COVID-19, discharges three\\xa0patients https://t.co/E6Ylw2dOWH'),\n",
       " Status(ID=1260851868776923136, ScreenName=drnataliemartin, Created=Thu May 14 08:38:05 +0000 2020, Text='RT @StefSimanowitz: The smoking gun of govt care home policy?\\n\\nGovt advice from 2 April.\\n\\n“Some of these patients may have #COVOD19. All ca…'),\n",
       " Status(ID=1260851868734910464, ScreenName=TataSky, Created=Thu May 14 08:38:05 +0000 2020, Text='@ImPravinGole Hi,  help is here! Your request has been registered with us. Owing to the COVID-19 situation mandate,… https://t.co/P5kVGcjxhk'),\n",
       " Status(ID=1260851868596502528, ScreenName=BarlitaB, Created=Thu May 14 08:38:05 +0000 2020, Text='RT @ElectAnthonyR: Monterey County residents there is now testing available for COVID 19! Share widely and make sure you’re healthy. https:…'),\n",
       " Status(ID=1260851868575641600, ScreenName=ABC30, Created=Thu May 14 08:38:05 +0000 2020, Text='Participants are also asked to wear a mask and follow social distancing guidelines in their videos as the COVID-19… https://t.co/dQcan8CdGy'),\n",
       " Status(ID=1260851868248522753, ScreenName=toctoc37682936, Created=Thu May 14 08:38:05 +0000 2020, Text='RT @xavierbertrand: .@EmmanuelMacron : il est impensable qu’une entreprise qui a son siège en France et qui bénéficie de crédits d’impôts r…'),\n",
       " Status(ID=1260851868122656773, ScreenName=soylibre92, Created=Thu May 14 08:38:05 +0000 2020, Text='RT @Mazzinguerzett1: ¿Cómo se puede permitir que Elisa Beni diga con total impunidad qué los familiares de las víctimas del COVID que se ha…'),\n",
       " Status(ID=1260851868114268160, ScreenName=caprisanreal, Created=Thu May 14 08:38:05 +0000 2020, Text='RT @abc_es: Plaga de colchones tirados en la calle tras las muertes por Covid-19 https://t.co/D3iDvqgGYx'),\n",
       " Status(ID=1260851868072321029, ScreenName=Tz_Kwanza, Created=Thu May 14 08:38:05 +0000 2020, Text='RT @ThatBoyKhalifax: “Tanzania ought to aspire to better lives for it citizens. These causes are laudable and it is good that Magufuli purs…'),\n",
       " Status(ID=1260851868068184064, ScreenName=CFArtTherapy, Created=Thu May 14 08:38:05 +0000 2020, Text='@Dawn_French Apparently 2% decrease isnt bad, one expert was saying he predicted 15%. So they are laying the founda… https://t.co/4TU913DZPY'),\n",
       " Status(ID=1260851867963326464, ScreenName=maryespana16, Created=Thu May 14 08:38:05 +0000 2020, Text='RT @okdiario: Revés al Gobierno: España se queda fuera del comité científico de la UE que asesora sobre el Covid-19 https://t.co/87WGd6tV3G'),\n",
       " Status(ID=1260851867950575616, ScreenName=DaikiSawai, Created=Thu May 14 08:38:05 +0000 2020, Text='RT @shinobuns: 煽り気味見出しですが「COVID-19に感染したヒトから採取したウイルスで実験用ネコ3例に感染させ、それぞれ未感染ネコと同じケージで同居させたとき、未感染ネコ3例からウイルスを検出、症状はなし」「動物からヒトへ感染させた例はまだない」です。'),\n",
       " Status(ID=1260851867938103296, ScreenName=ceresisaplanet, Created=Thu May 14 08:38:05 +0000 2020, Text='RT @FullFact: At PMQs, Keir Starmer claimed that, until 12 March, government guidance had said people in care homes were ‘very unlikely’ to…'),\n",
       " Status(ID=1260851867891859461, ScreenName=H2Ninja, Created=Thu May 14 08:38:05 +0000 2020, Text='@ZakBaker3012 @donwinslow @Rosie What Doctors Are Learning From Autopsy Findings of Coronavirus (COVID-19) Patients\\nhttps://t.co/0dyRzvJ8Eo'),\n",
       " Status(ID=1260851867841466368, ScreenName=Gen_R09, Created=Thu May 14 08:38:05 +0000 2020, Text='RT @ABSCBNNews: Criminal charges will be filed against NCRPO chief Debold Sinas who drew flak on social media for celebrating his birthday…')]"
      ]
     },
     "execution_count": 14,
     "metadata": {},
     "output_type": "execute_result"
    }
   ],
   "source": [
    "results"
   ]
  },
  {
   "cell_type": "code",
   "execution_count": null,
   "metadata": {},
   "outputs": [],
   "source": []
  }
 ],
 "metadata": {
  "kernelspec": {
   "display_name": "Python 3",
   "language": "python",
   "name": "python3"
  },
  "language_info": {
   "codemirror_mode": {
    "name": "ipython",
    "version": 3
   },
   "file_extension": ".py",
   "mimetype": "text/x-python",
   "name": "python",
   "nbconvert_exporter": "python",
   "pygments_lexer": "ipython3",
   "version": "3.8.2"
  }
 },
 "nbformat": 4,
 "nbformat_minor": 4
}
