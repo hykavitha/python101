{
 "cells": [
  {
   "cell_type": "code",
   "execution_count": 1,
   "metadata": {
    "scrolled": true
   },
   "outputs": [],
   "source": [
    "from mysql.connector import (connection)\n"
   ]
  },
  {
   "cell_type": "code",
   "execution_count": 3,
   "metadata": {},
   "outputs": [],
   "source": [
    "cnx = connection.MySQLConnection(user='kavitha', password='root123',\n",
    "                              host='127.0.0.1',\n",
    "                              database='web_scraping')\n"
   ]
  },
  {
   "cell_type": "code",
   "execution_count": 4,
   "metadata": {},
   "outputs": [
    {
     "data": {
      "text/plain": [
       "<mysql.connector.connection.MySQLConnection at 0x5916e08>"
      ]
     },
     "execution_count": 4,
     "metadata": {},
     "output_type": "execute_result"
    }
   ],
   "source": [
    "cnx."
   ]
  },
  {
   "cell_type": "code",
   "execution_count": 7,
   "metadata": {},
   "outputs": [
    {
     "name": "stdout",
     "output_type": "stream",
     "text": [
      "Something is wrong with your user name or password\n"
     ]
    }
   ],
   "source": [
    "import mysql.connector\n",
    "from mysql.connector import errorcode\n",
    "\n",
    "try:\n",
    "  cnx = mysql.connector.connect(user='kavitha', password='root123',\n",
    "                              host='127.0.0.1',\n",
    "                              database='web_scraping')\n",
    "  print(\"connection good\")\n",
    "except mysql.connector.Error as err:\n",
    "  if err.errno == errorcode.ER_ACCESS_DENIED_ERROR:\n",
    "    print(\"Something is wrong with your user name or password\")\n",
    "  elif err.errno == errorcode.ER_BAD_DB_ERROR:\n",
    "    print(\"Database does not exist\")\n",
    "  else:\n",
    "    print(err)\n",
    "else:\n",
    "  cnx.close()\n"
   ]
  },
  {
   "cell_type": "code",
   "execution_count": 16,
   "metadata": {},
   "outputs": [],
   "source": [
    "import mysql.connector\n",
    "from __future__ import print_function\n",
    "from datetime import date, datetime, timedelta\n",
    "config = {\n",
    " 'user':'kavitha', \n",
    " 'password':'root123',\n",
    "  'host':'127.0.0.1',\n",
    " 'database':'web_scraping',\n",
    "  'raise_on_warnings': True\n",
    "}\n",
    "\n",
    "cnx = mysql.connector.connect(**config)\n",
    "\n"
   ]
  },
  {
   "cell_type": "code",
   "execution_count": 17,
   "metadata": {},
   "outputs": [
    {
     "data": {
      "text/plain": [
       "'2020-05-12 18:15:34'"
      ]
     },
     "execution_count": 17,
     "metadata": {},
     "output_type": "execute_result"
    }
   ],
   "source": [
    "cursor = cnx.cursor()\n",
    "\n",
    "now =  datetime.now()\n",
    "\n",
    "today_now = now.strftime(\"%Y-%m-%d %H:%M:%S\")\n",
    "today_now"
   ]
  },
  {
   "cell_type": "code",
   "execution_count": 18,
   "metadata": {},
   "outputs": [],
   "source": [
    "\n",
    "add_quote = (\"INSERT INTO web_scraping.quotes2\"\n",
    "               \"(quote, author, tags, last_upd_timestampquotes) \"\n",
    "               \"VALUES (%s, %s, %s, %s)\")\n",
    "\n"
   ]
  },
  {
   "cell_type": "code",
   "execution_count": 9,
   "metadata": {
    "scrolled": false
   },
   "outputs": [
    {
     "name": "stdout",
     "output_type": "stream",
     "text": [
      "None\n"
     ]
    }
   ],
   "source": [
    "data_quote = ('my life my rules i love it', 'kavitha', 'life', today_now)\n",
    "\n",
    "# Insert new employee\n",
    "result = cursor.execute(add_quote, data_quote)\n",
    "cnx.commit()\n",
    "\n",
    "\n"
   ]
  },
  {
   "cell_type": "code",
   "execution_count": 19,
   "metadata": {},
   "outputs": [
    {
     "data": {
      "text/plain": [
       "<mysql.connector.cursor.MySQLCursor at 0x7bb5ca0>"
      ]
     },
     "execution_count": 19,
     "metadata": {},
     "output_type": "execute_result"
    }
   ],
   "source": [
    "cursor"
   ]
  },
  {
   "cell_type": "code",
   "execution_count": 23,
   "metadata": {},
   "outputs": [
    {
     "name": "stdout",
     "output_type": "stream",
     "text": [
      "None\n",
      "hi, quote is written by me \n",
      " and classified into sadasd on 12 May 2020\n",
      "my life my rules i love it, quote is written by kavitha \n",
      " and classified into life on 12 May 2020\n",
      "my life my rules122, quote is written by kavitha \n",
      " and classified into life on 12 May 2020\n",
      "my life my rules12312, quote is written by kavitha \n",
      " and classified into life on 12 May 2020\n"
     ]
    }
   ],
   "source": [
    "query = (\"SELECT quote, author, tags, last_upd_timestampquotes FROM web_scraping.quotes2\")\n",
    "#          \"WHERE hire_date BETWEEN %s AND %s\")\n",
    "\n",
    "# hire_start = datetime.date(1999, 1, 1)\n",
    "# hire_end = datetime.date(1999, 12, 31)\n",
    "\n",
    "cursor.execute(query)\n",
    "print(result)\n",
    "\n",
    "for (quote, author, tags, last_upd_timestampquotes) in cursor:\n",
    "  print(\"{}, quote is written by {} \\n and classified into {} on {:%d %b %Y}\".format(\n",
    "   quote, author, tags, last_upd_timestampquotes))\n"
   ]
  },
  {
   "cell_type": "code",
   "execution_count": null,
   "metadata": {},
   "outputs": [],
   "source": [
    "CREATE TABLE web_scraping.Quotes (\n",
    "    quote varchar (500) NOT NULL PRIMARY KEY,\n",
    "    author varchar(255) NOT NULL,\n",
    "    tags varchar(255),\n",
    "    last_upd_timestampquotes timestamp\n",
    "     \n",
    ");"
   ]
  },
  {
   "cell_type": "code",
   "execution_count": null,
   "metadata": {},
   "outputs": [],
   "source": [
    "alter TABLE web_scraping.Quotes \n",
    "ADD last_upd_timestampquotes timestamp;"
   ]
  },
  {
   "cell_type": "code",
   "execution_count": null,
   "metadata": {},
   "outputs": [],
   "source": [
    "SELECT * FROM web_scraping.quotes2;\n",
    "\n",
    "INSERT INTO `web_scraping`.`quotes2`\n",
    "(`quote`,\n",
    "`author`,\n",
    "`tags`,\n",
    "`last_upd_timestampquotes`)\n",
    "VALUES\n",
    "('hi', 'me', 'sadasd', current_timestamp());\n"
   ]
  }
 ],
 "metadata": {
  "kernelspec": {
   "display_name": "Python 3",
   "language": "python",
   "name": "python3"
  },
  "language_info": {
   "codemirror_mode": {
    "name": "ipython",
    "version": 3
   },
   "file_extension": ".py",
   "mimetype": "text/x-python",
   "name": "python",
   "nbconvert_exporter": "python",
   "pygments_lexer": "ipython3",
   "version": "3.8.2"
  }
 },
 "nbformat": 4,
 "nbformat_minor": 4
}
